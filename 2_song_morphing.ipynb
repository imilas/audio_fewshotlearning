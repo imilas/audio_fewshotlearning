{
 "cells": [
  {
   "cell_type": "code",
   "execution_count": null,
   "id": "3587c896-80a3-40a9-a7d6-b952c59417bb",
   "metadata": {},
   "outputs": [],
   "source": [
    "import openl3\n",
    "import soundfile as sf\n",
    "import pandas as pd\n",
    "import numpy as np\n",
    "import matplotlib.pyplot as plt\n",
    "from IPython.display import Audio\n",
    "from multiprocessing import Pool\n",
    "import random\n",
    "import pickle \n",
    "from pytube import YouTube\n",
    "from moviepy.editor import *\n",
    "from scipy.spatial import distance\n",
    "import os, glob\n",
    "from pydub import AudioSegment, effects\n",
    "import soundfile as sf\n",
    "HOP_SIZE = 0.2 # when embeddings sounds, shift windows by HOP_SIZE\n",
    "GLOBAL_SR = 44100\n",
    "CONTENT_TYPE = \"music\"\n",
    "INPUT_REPR = \"mel128\""
   ]
  },
  {
   "cell_type": "code",
   "execution_count": null,
   "id": "a3d57180-e161-4eed-9847-df713cdae29c",
   "metadata": {},
   "outputs": [],
   "source": [
    "def make_mono(stereo_sound):\n",
    "    # given a stereo sound, return mono \n",
    "    mono_sound = stereo_sound[0,:]\n",
    "    for s in stereo_sound[1:]:\n",
    "        mono_sound += s\n",
    "    return mono_sound/len(stereo_sound)\n",
    "\n",
    "def download_youtube_audio(url,name=False):\n",
    "    yt = YouTube(url) # download audio from youtube link with p\n",
    "    stream = yt.streams.filter(only_audio=True).first()\n",
    "    if name:\n",
    "        path = stream.download(\"media/\", filename = name)\n",
    "    else:\n",
    "        path = stream.download(\"media/\")\n",
    "    return AudioFileClip(path) # load the audio using moviepy.editor\n",
    "\n",
    "# bag a sound, and save it\n",
    "def bag_n_save(sound,name,overwrite=False):\n",
    "    if os.path.isfile(name)==False or overwrite==True:\n",
    "        pass\n",
    "    else:\n",
    "        return True\n",
    "    embeddings, ts = openl3.get_audio_embedding(sound,sr=GLOBAL_SR,frontend='librosa',input_repr=INPUT_REPR,hop_size=0.2,\n",
    "                                     embedding_size=512,content_type=CONTENT_TYPE,verbose=1,)\n",
    "    bag = list(zip(embeddings,sound_segments))\n",
    "    with open(name,\"wb\") as f:\n",
    "        pickle.dump(bag,f)\n",
    "    return bag\n",
    "\n",
    "def make_bags():\n",
    "    # get evey media file, bag it and save it in the bags folder\n",
    "    medias = glob.glob(\"media/*.wav\")\n",
    "    for mpath in medias:\n",
    "        audio, sr = sf.read(mpath)\n",
    "        bag_name = os.path.basename(mpath).split(\".\")[0]\n",
    "        bag_n_save(sound,\"media/%s.bag\"%bag_name)\n"
   ]
  },
  {
   "cell_type": "code",
   "execution_count": null,
   "id": "7365c166-f50e-48db-9a25-4d85b56ea335",
   "metadata": {},
   "outputs": [],
   "source": [
    "# download the songs\n",
    "download_youtube_audio('https://www.youtube.com/watch?v=wp43OdtAAkM',\"katebush_runningup.mp4\")\n",
    "download_youtube_audio('https://www.youtube.com/watch?v=m1cRGVaJF7Y','front242_headhunter.mp4')"
   ]
  },
  {
   "cell_type": "code",
   "execution_count": null,
   "id": "238d64ed-535c-486c-b42f-e8454e615bba",
   "metadata": {},
   "outputs": [],
   "source": [
    "# convert songs to wav after normalizing mp4s\n",
    "name = \"front242_headhunter\"\n",
    "s = AudioFileClip(\"media/%s.mp4\"%name,).fx(afx.audio_normalize)\n",
    "s.write_audiofile(\"media/%s.wav\"%name,codec='pcm_s16le')\n",
    "name = \"katebush_runningup\"\n",
    "s = AudioFileClip(\"media/%s.mp4\"%name,).fx(afx.audio_normalize)\n",
    "s.write_audiofile(\"media/%s.wav\"%name,codec='pcm_s16le')"
   ]
  },
  {
   "cell_type": "code",
   "execution_count": null,
   "id": "29b268c2-0fcd-444c-a328-0f9812b781ef",
   "metadata": {},
   "outputs": [],
   "source": [
    "# embed both songs\n",
    "audio_kb, sr = sf.read('media/katebush_runningup.wav')\n",
    "assert(sr==GLOBAL_SR)\n",
    "kb_emb, kb_times = openl3.get_audio_embedding(audio_kb,sr=GLOBAL_SR,frontend='librosa',input_repr=INPUT_REPR,hop_size=HOP_SIZE,\n",
    "                                     embedding_size=512,content_type=CONTENT_TYPE,verbose=1)\n",
    "kb = dict(zip(kb_times,kb_emb))\n",
    "\n",
    "audio_f242, sr = sf.read('media/front242_headhunter.wav')\n",
    "assert(sr==GLOBAL_SR)\n",
    "f242_emb, f242_times = openl3.get_audio_embedding(audio_f242,sr=GLOBAL_SR,frontend='librosa',input_repr=INPUT_REPR,hop_size=HOP_SIZE,\n",
    "                                     embedding_size=512,content_type=CONTENT_TYPE,verbose=1)\n",
    "f242 = dict(zip(f242_times,f242_emb))\n"
   ]
  },
  {
   "cell_type": "code",
   "execution_count": null,
   "id": "8e20a662-45b2-46d5-bfd7-0f9d611299d5",
   "metadata": {},
   "outputs": [],
   "source": [
    "def closest_node(node, nodes,metric='euclidean'):\n",
    "    ''' distance measuring function''' \n",
    "    closest_index = distance.cdist([node], nodes,metric = metric).argmin()\n",
    "    return closest_index,nodes[closest_index]\n",
    "\n",
    "remade = []\n",
    "for i in range(int(len(kb.keys())*HOP_SIZE)):\n",
    "    t,_ = closest_node(kb[i],f242_emb,metric=\"cosine\")\n",
    "    start_time = int(0.2*t*GLOBAL_SR)\n",
    "    end_time = start_time+GLOBAL_SR\n",
    "    remade.append(audio_f242[start_time:end_time,:])\n",
    "Audio(np.vstack(remade).T,rate=GLOBAL_SR)"
   ]
  },
  {
   "cell_type": "code",
   "execution_count": null,
   "id": "aaebac9a-b305-48e4-b97a-5c1ce228ea06",
   "metadata": {},
   "outputs": [],
   "source": [
    "remade = []\n",
    "for i in range(int(len(f242.keys())*HOP_SIZE)):\n",
    "    t,_ = closest_node(f242[i],kb_emb,metric=\"euclidean\")\n",
    "    start_time = int(0.2*t*GLOBAL_SR)\n",
    "    end_time = start_time+GLOBAL_SR\n",
    "    remade.append(audio_kb[start_time:end_time,:])\n",
    "Audio(np.vstack(remade).T,rate=GLOBAL_SR)"
   ]
  },
  {
   "cell_type": "code",
   "execution_count": null,
   "id": "9515988f-7f53-4055-947a-ed745fe68c97",
   "metadata": {},
   "outputs": [],
   "source": [
    "audio_kb, sr = sf.read('media/katebush_runningup.wav')\n",
    "Audio(audio_kb.T,rate=sr)"
   ]
  },
  {
   "cell_type": "code",
   "execution_count": null,
   "id": "8d395f6f-d609-45d2-a803-fd24916c78d4",
   "metadata": {},
   "outputs": [],
   "source": [
    "audio_kb, sr = sf.read('media/front242_headhunter.wav')\n",
    "Audio(audio_kb.T,rate=sr)"
   ]
  }
 ],
 "metadata": {
  "kernelspec": {
   "display_name": "Python 3",
   "language": "python",
   "name": "python3"
  },
  "language_info": {
   "codemirror_mode": {
    "name": "ipython",
    "version": 3
   },
   "file_extension": ".py",
   "mimetype": "text/x-python",
   "name": "python",
   "nbconvert_exporter": "python",
   "pygments_lexer": "ipython3",
   "version": "3.7.10"
  }
 },
 "nbformat": 4,
 "nbformat_minor": 5
}
